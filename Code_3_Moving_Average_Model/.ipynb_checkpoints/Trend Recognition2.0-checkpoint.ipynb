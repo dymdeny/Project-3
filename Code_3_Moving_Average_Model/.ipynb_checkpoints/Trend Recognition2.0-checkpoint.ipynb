{
 "cells": [
  {
   "cell_type": "code",
   "execution_count": 66,
   "id": "92077abc-a73d-4e46-b9e0-0298f562d175",
   "metadata": {},
   "outputs": [],
   "source": [
    "import numpy as np\n",
    "import pandas as pd\n",
    "from sklearn.linear_model import LinearRegression\n",
    "from sklearn.svm import SVR\n",
    "from sklearn.ensemble import RandomForestRegressor\n",
    "from sklearn.ensemble import VotingRegressor\n",
    "from sklearn.model_selection import train_test_split\n",
    "from sklearn.preprocessing import StandardScaler\n",
    "from sklearn.metrics import mean_squared_error\n",
    "from sklearn.metrics import r2_score\n",
    "from sklearn.model_selection import GridSearchCV\n",
    "import talib\n",
    "import os\n",
    "import matplotlib.pyplot as plt\n",
    "import alpaca_trade_api as tradeapi\n",
    "from dotenv import load_dotenv, find_dotenv"
   ]
  },
  {
   "cell_type": "code",
   "execution_count": 67,
   "id": "4a83fd9b-ca99-4bde-a43e-dab9a2c600bd",
   "metadata": {},
   "outputs": [
    {
     "data": {
      "text/plain": [
       "True"
      ]
     },
     "execution_count": 67,
     "metadata": {},
     "output_type": "execute_result"
    }
   ],
   "source": [
    "load_dotenv()"
   ]
  },
  {
   "cell_type": "code",
   "execution_count": 68,
   "id": "b5ef9f71-20d9-46eb-8b47-5b3946495fac",
   "metadata": {},
   "outputs": [
    {
     "data": {
      "text/html": [
       "<div>\n",
       "<style scoped>\n",
       "    .dataframe tbody tr th:only-of-type {\n",
       "        vertical-align: middle;\n",
       "    }\n",
       "\n",
       "    .dataframe tbody tr th {\n",
       "        vertical-align: top;\n",
       "    }\n",
       "\n",
       "    .dataframe thead th {\n",
       "        text-align: right;\n",
       "    }\n",
       "</style>\n",
       "<table border=\"1\" class=\"dataframe\">\n",
       "  <thead>\n",
       "    <tr style=\"text-align: right;\">\n",
       "      <th></th>\n",
       "      <th>open</th>\n",
       "      <th>high</th>\n",
       "      <th>low</th>\n",
       "      <th>close</th>\n",
       "      <th>volume</th>\n",
       "    </tr>\n",
       "    <tr>\n",
       "      <th>Date</th>\n",
       "      <th></th>\n",
       "      <th></th>\n",
       "      <th></th>\n",
       "      <th></th>\n",
       "      <th></th>\n",
       "    </tr>\n",
       "  </thead>\n",
       "  <tbody>\n",
       "    <tr>\n",
       "      <th>2019-01-07 05:00:00+00:00</th>\n",
       "      <td>252.700</td>\n",
       "      <td>255.9500</td>\n",
       "      <td>251.69</td>\n",
       "      <td>254.29</td>\n",
       "      <td>103705813</td>\n",
       "    </tr>\n",
       "    <tr>\n",
       "      <th>2019-01-08 05:00:00+00:00</th>\n",
       "      <td>256.820</td>\n",
       "      <td>257.3100</td>\n",
       "      <td>254.00</td>\n",
       "      <td>256.62</td>\n",
       "      <td>103267687</td>\n",
       "    </tr>\n",
       "    <tr>\n",
       "      <th>2019-01-09 05:00:00+00:00</th>\n",
       "      <td>257.560</td>\n",
       "      <td>258.9100</td>\n",
       "      <td>256.19</td>\n",
       "      <td>257.92</td>\n",
       "      <td>95741225</td>\n",
       "    </tr>\n",
       "    <tr>\n",
       "      <th>2019-01-10 05:00:00+00:00</th>\n",
       "      <td>256.260</td>\n",
       "      <td>259.1600</td>\n",
       "      <td>255.50</td>\n",
       "      <td>258.98</td>\n",
       "      <td>98012473</td>\n",
       "    </tr>\n",
       "    <tr>\n",
       "      <th>2019-01-11 05:00:00+00:00</th>\n",
       "      <td>257.680</td>\n",
       "      <td>259.0098</td>\n",
       "      <td>257.03</td>\n",
       "      <td>258.81</td>\n",
       "      <td>74684741</td>\n",
       "    </tr>\n",
       "    <tr>\n",
       "      <th>...</th>\n",
       "      <td>...</td>\n",
       "      <td>...</td>\n",
       "      <td>...</td>\n",
       "      <td>...</td>\n",
       "      <td>...</td>\n",
       "    </tr>\n",
       "    <tr>\n",
       "      <th>2023-01-23 05:00:00+00:00</th>\n",
       "      <td>396.720</td>\n",
       "      <td>402.6450</td>\n",
       "      <td>395.72</td>\n",
       "      <td>400.63</td>\n",
       "      <td>84187957</td>\n",
       "    </tr>\n",
       "    <tr>\n",
       "      <th>2023-01-24 05:00:00+00:00</th>\n",
       "      <td>398.880</td>\n",
       "      <td>401.1500</td>\n",
       "      <td>397.64</td>\n",
       "      <td>400.20</td>\n",
       "      <td>59549719</td>\n",
       "    </tr>\n",
       "    <tr>\n",
       "      <th>2023-01-25 05:00:00+00:00</th>\n",
       "      <td>395.950</td>\n",
       "      <td>400.7000</td>\n",
       "      <td>393.56</td>\n",
       "      <td>400.35</td>\n",
       "      <td>84826825</td>\n",
       "    </tr>\n",
       "    <tr>\n",
       "      <th>2023-01-26 05:00:00+00:00</th>\n",
       "      <td>403.130</td>\n",
       "      <td>404.9200</td>\n",
       "      <td>400.03</td>\n",
       "      <td>404.75</td>\n",
       "      <td>72307597</td>\n",
       "    </tr>\n",
       "    <tr>\n",
       "      <th>2023-01-27 05:00:00+00:00</th>\n",
       "      <td>403.655</td>\n",
       "      <td>408.1600</td>\n",
       "      <td>403.44</td>\n",
       "      <td>405.68</td>\n",
       "      <td>68346180</td>\n",
       "    </tr>\n",
       "  </tbody>\n",
       "</table>\n",
       "<p>1023 rows × 5 columns</p>\n",
       "</div>"
      ],
      "text/plain": [
       "                              open      high     low   close     volume\n",
       "Date                                                                   \n",
       "2019-01-07 05:00:00+00:00  252.700  255.9500  251.69  254.29  103705813\n",
       "2019-01-08 05:00:00+00:00  256.820  257.3100  254.00  256.62  103267687\n",
       "2019-01-09 05:00:00+00:00  257.560  258.9100  256.19  257.92   95741225\n",
       "2019-01-10 05:00:00+00:00  256.260  259.1600  255.50  258.98   98012473\n",
       "2019-01-11 05:00:00+00:00  257.680  259.0098  257.03  258.81   74684741\n",
       "...                            ...       ...     ...     ...        ...\n",
       "2023-01-23 05:00:00+00:00  396.720  402.6450  395.72  400.63   84187957\n",
       "2023-01-24 05:00:00+00:00  398.880  401.1500  397.64  400.20   59549719\n",
       "2023-01-25 05:00:00+00:00  395.950  400.7000  393.56  400.35   84826825\n",
       "2023-01-26 05:00:00+00:00  403.130  404.9200  400.03  404.75   72307597\n",
       "2023-01-27 05:00:00+00:00  403.655  408.1600  403.44  405.68   68346180\n",
       "\n",
       "[1023 rows x 5 columns]"
      ]
     },
     "metadata": {},
     "output_type": "display_data"
    }
   ],
   "source": [
    "ticker = [\"SPY\"]\n",
    "# Set timeframe to \"1Day\" for Alpaca API\n",
    "timeframe = \"1day\"\n",
    "# Format current date as ISO format\n",
    "start_date = pd.Timestamp(\"2019-01-06\", tz=\"America/New_York\").isoformat()\n",
    "end_date = pd.Timestamp(\"2023-01-28\", tz=\"America/New_York\").isoformat()\n",
    "# Set Alpaca API key and secret\n",
    "alpaca_api_key = os.getenv(\"ALPACA_API_KEY\")\n",
    "alpaca_secret_key = os.getenv(\"ALPACA_SECRET_KEY\")\n",
    "# Create the Alpaca API object\n",
    "api = tradeapi.REST(\n",
    "    alpaca_api_key,\n",
    "    alpaca_secret_key,\n",
    "    api_version=\"v2\"\n",
    ")\n",
    "\n",
    "\n",
    "stock_data = api.get_bars(\n",
    "    ticker,\n",
    "    timeframe,\n",
    "    start=start_date,\n",
    "    end=end_date\n",
    ").df\n",
    "\n",
    "# Reorganize the DataFrame\n",
    "# Separate ticker data\n",
    "# Drop unwanted coloumns - Keep  Close\n",
    "stock_data.drop(columns= ['trade_count','vwap','symbol'], inplace= True)\n",
    "    # Combine individual stocks into a single data frame\n",
    "\n",
    "  # Rename the coloumns to the ticker symbols in the list\n",
    "#stock_data.columns = ticker\n",
    "stock_data.index.name = 'Date'\n",
    "stock_data.index_column = 'Date'\n",
    "# Drop the N/As\n",
    "\n",
    "\n",
    "# Drop the time component of the date\n",
    "#df_ticker.index = df_ticker.index.date\n",
    "\n",
    "\n",
    "# Display the data\n",
    "display(stock_data)"
   ]
  },
  {
   "cell_type": "code",
   "execution_count": 69,
   "id": "e7e9443c-78ae-4cde-8c53-680019b3ef61",
   "metadata": {},
   "outputs": [],
   "source": [
    "stock_data.dropna(inplace=True)"
   ]
  },
  {
   "cell_type": "code",
   "execution_count": 70,
   "id": "c8ec35b3-73c5-4ece-b869-8708c795d57c",
   "metadata": {},
   "outputs": [],
   "source": [
    "# Set the variables for short window and long window periods\n",
    "short_window = 8\n",
    "long_window = 20\n",
    "# Add additional columns for EMA\n",
    "stock_data[\"EMA_8\"] = stock_data[\"close\"].ewm(span=short_window).mean()\n",
    "stock_data[\"EMA_20\"] = stock_data[\"close\"].ewm(span=long_window).mean()"
   ]
  },
  {
   "cell_type": "code",
   "execution_count": 71,
   "id": "58420bb0-854e-4a47-acd9-fda8279b5005",
   "metadata": {},
   "outputs": [],
   "source": [
    "stock_data[\"MA_50\"] = stock_data[\"close\"].rolling(window=50).mean()\n",
    "stock_data[\"MA_126\"] = stock_data[\"close\"].rolling(window=126).mean()"
   ]
  },
  {
   "cell_type": "code",
   "execution_count": 72,
   "id": "a7d457f0-f2bf-462c-894d-e776f1fd5945",
   "metadata": {},
   "outputs": [],
   "source": [
    "# Shift the data by 10 days\n",
    "stock_data[\"Close_future_10\"] = stock_data[\"close\"].shift(-10)"
   ]
  },
  {
   "cell_type": "code",
   "execution_count": 73,
   "id": "9b1f26c9-8e71-4582-a716-edc88c185d96",
   "metadata": {},
   "outputs": [
    {
     "data": {
      "text/plain": [
       "open                 0\n",
       "high                 0\n",
       "low                  0\n",
       "close                0\n",
       "volume               0\n",
       "EMA_8                0\n",
       "EMA_20               0\n",
       "MA_50               49\n",
       "MA_126             125\n",
       "Close_future_10     10\n",
       "dtype: int64"
      ]
     },
     "execution_count": 73,
     "metadata": {},
     "output_type": "execute_result"
    }
   ],
   "source": [
    "#check for any missing values\n",
    "stock_data.isnull().sum()"
   ]
  },
  {
   "cell_type": "code",
   "execution_count": 90,
   "id": "31d5c8ae-8d1a-4b9e-acaf-be4ed4d24ed9",
   "metadata": {},
   "outputs": [
    {
     "data": {
      "text/html": [
       "<div>\n",
       "<style scoped>\n",
       "    .dataframe tbody tr th:only-of-type {\n",
       "        vertical-align: middle;\n",
       "    }\n",
       "\n",
       "    .dataframe tbody tr th {\n",
       "        vertical-align: top;\n",
       "    }\n",
       "\n",
       "    .dataframe thead th {\n",
       "        text-align: right;\n",
       "    }\n",
       "</style>\n",
       "<table border=\"1\" class=\"dataframe\">\n",
       "  <thead>\n",
       "    <tr style=\"text-align: right;\">\n",
       "      <th></th>\n",
       "      <th>open</th>\n",
       "      <th>high</th>\n",
       "      <th>low</th>\n",
       "      <th>close</th>\n",
       "      <th>volume</th>\n",
       "      <th>EMA_8</th>\n",
       "      <th>EMA_20</th>\n",
       "      <th>MA_50</th>\n",
       "      <th>MA_126</th>\n",
       "      <th>Close_future_10</th>\n",
       "    </tr>\n",
       "    <tr>\n",
       "      <th>Date</th>\n",
       "      <th></th>\n",
       "      <th></th>\n",
       "      <th></th>\n",
       "      <th></th>\n",
       "      <th></th>\n",
       "      <th></th>\n",
       "      <th></th>\n",
       "      <th></th>\n",
       "      <th></th>\n",
       "      <th></th>\n",
       "    </tr>\n",
       "  </thead>\n",
       "  <tbody>\n",
       "    <tr>\n",
       "      <th>2019-01-07 05:00:00+00:00</th>\n",
       "      <td>252.700</td>\n",
       "      <td>255.9500</td>\n",
       "      <td>251.69</td>\n",
       "      <td>254.29</td>\n",
       "      <td>103705813</td>\n",
       "      <td>254.290000</td>\n",
       "      <td>254.290000</td>\n",
       "      <td>364.329009</td>\n",
       "      <td>366.858137</td>\n",
       "      <td>262.940000</td>\n",
       "    </tr>\n",
       "    <tr>\n",
       "      <th>2019-01-08 05:00:00+00:00</th>\n",
       "      <td>256.820</td>\n",
       "      <td>257.3100</td>\n",
       "      <td>254.00</td>\n",
       "      <td>256.62</td>\n",
       "      <td>103267687</td>\n",
       "      <td>255.600625</td>\n",
       "      <td>255.513250</td>\n",
       "      <td>364.329009</td>\n",
       "      <td>366.858137</td>\n",
       "      <td>263.350000</td>\n",
       "    </tr>\n",
       "    <tr>\n",
       "      <th>2019-01-09 05:00:00+00:00</th>\n",
       "      <td>257.560</td>\n",
       "      <td>258.9100</td>\n",
       "      <td>256.19</td>\n",
       "      <td>257.92</td>\n",
       "      <td>95741225</td>\n",
       "      <td>256.574041</td>\n",
       "      <td>256.396994</td>\n",
       "      <td>364.329009</td>\n",
       "      <td>366.858137</td>\n",
       "      <td>263.600000</td>\n",
       "    </tr>\n",
       "    <tr>\n",
       "      <th>2019-01-10 05:00:00+00:00</th>\n",
       "      <td>256.260</td>\n",
       "      <td>259.1600</td>\n",
       "      <td>255.50</td>\n",
       "      <td>258.98</td>\n",
       "      <td>98012473</td>\n",
       "      <td>257.417284</td>\n",
       "      <td>257.142668</td>\n",
       "      <td>364.329009</td>\n",
       "      <td>366.858137</td>\n",
       "      <td>265.780000</td>\n",
       "    </tr>\n",
       "    <tr>\n",
       "      <th>2019-01-11 05:00:00+00:00</th>\n",
       "      <td>257.680</td>\n",
       "      <td>259.0098</td>\n",
       "      <td>257.03</td>\n",
       "      <td>258.81</td>\n",
       "      <td>74684741</td>\n",
       "      <td>257.849915</td>\n",
       "      <td>257.545981</td>\n",
       "      <td>364.329009</td>\n",
       "      <td>366.858137</td>\n",
       "      <td>263.780000</td>\n",
       "    </tr>\n",
       "    <tr>\n",
       "      <th>...</th>\n",
       "      <td>...</td>\n",
       "      <td>...</td>\n",
       "      <td>...</td>\n",
       "      <td>...</td>\n",
       "      <td>...</td>\n",
       "      <td>...</td>\n",
       "      <td>...</td>\n",
       "      <td>...</td>\n",
       "      <td>...</td>\n",
       "      <td>...</td>\n",
       "    </tr>\n",
       "    <tr>\n",
       "      <th>2023-01-23 05:00:00+00:00</th>\n",
       "      <td>396.720</td>\n",
       "      <td>402.6450</td>\n",
       "      <td>395.72</td>\n",
       "      <td>400.63</td>\n",
       "      <td>84187957</td>\n",
       "      <td>394.501786</td>\n",
       "      <td>391.503344</td>\n",
       "      <td>392.371000</td>\n",
       "      <td>391.366984</td>\n",
       "      <td>363.690656</td>\n",
       "    </tr>\n",
       "    <tr>\n",
       "      <th>2023-01-24 05:00:00+00:00</th>\n",
       "      <td>398.880</td>\n",
       "      <td>401.1500</td>\n",
       "      <td>397.64</td>\n",
       "      <td>400.20</td>\n",
       "      <td>59549719</td>\n",
       "      <td>395.768056</td>\n",
       "      <td>392.331597</td>\n",
       "      <td>392.892400</td>\n",
       "      <td>391.403730</td>\n",
       "      <td>363.690656</td>\n",
       "    </tr>\n",
       "    <tr>\n",
       "      <th>2023-01-25 05:00:00+00:00</th>\n",
       "      <td>395.950</td>\n",
       "      <td>400.7000</td>\n",
       "      <td>393.56</td>\n",
       "      <td>400.35</td>\n",
       "      <td>84826825</td>\n",
       "      <td>396.786266</td>\n",
       "      <td>393.095254</td>\n",
       "      <td>393.005600</td>\n",
       "      <td>391.478810</td>\n",
       "      <td>363.690656</td>\n",
       "    </tr>\n",
       "    <tr>\n",
       "      <th>2023-01-26 05:00:00+00:00</th>\n",
       "      <td>403.130</td>\n",
       "      <td>404.9200</td>\n",
       "      <td>400.03</td>\n",
       "      <td>404.75</td>\n",
       "      <td>72307597</td>\n",
       "      <td>398.555985</td>\n",
       "      <td>394.205230</td>\n",
       "      <td>393.130400</td>\n",
       "      <td>391.508254</td>\n",
       "      <td>363.690656</td>\n",
       "    </tr>\n",
       "    <tr>\n",
       "      <th>2023-01-27 05:00:00+00:00</th>\n",
       "      <td>403.655</td>\n",
       "      <td>408.1600</td>\n",
       "      <td>403.44</td>\n",
       "      <td>405.68</td>\n",
       "      <td>68346180</td>\n",
       "      <td>400.139099</td>\n",
       "      <td>395.298065</td>\n",
       "      <td>393.341600</td>\n",
       "      <td>391.505397</td>\n",
       "      <td>363.690656</td>\n",
       "    </tr>\n",
       "  </tbody>\n",
       "</table>\n",
       "<p>1023 rows × 10 columns</p>\n",
       "</div>"
      ],
      "text/plain": [
       "                              open      high     low   close     volume  \\\n",
       "Date                                                                      \n",
       "2019-01-07 05:00:00+00:00  252.700  255.9500  251.69  254.29  103705813   \n",
       "2019-01-08 05:00:00+00:00  256.820  257.3100  254.00  256.62  103267687   \n",
       "2019-01-09 05:00:00+00:00  257.560  258.9100  256.19  257.92   95741225   \n",
       "2019-01-10 05:00:00+00:00  256.260  259.1600  255.50  258.98   98012473   \n",
       "2019-01-11 05:00:00+00:00  257.680  259.0098  257.03  258.81   74684741   \n",
       "...                            ...       ...     ...     ...        ...   \n",
       "2023-01-23 05:00:00+00:00  396.720  402.6450  395.72  400.63   84187957   \n",
       "2023-01-24 05:00:00+00:00  398.880  401.1500  397.64  400.20   59549719   \n",
       "2023-01-25 05:00:00+00:00  395.950  400.7000  393.56  400.35   84826825   \n",
       "2023-01-26 05:00:00+00:00  403.130  404.9200  400.03  404.75   72307597   \n",
       "2023-01-27 05:00:00+00:00  403.655  408.1600  403.44  405.68   68346180   \n",
       "\n",
       "                                EMA_8      EMA_20       MA_50      MA_126  \\\n",
       "Date                                                                        \n",
       "2019-01-07 05:00:00+00:00  254.290000  254.290000  364.329009  366.858137   \n",
       "2019-01-08 05:00:00+00:00  255.600625  255.513250  364.329009  366.858137   \n",
       "2019-01-09 05:00:00+00:00  256.574041  256.396994  364.329009  366.858137   \n",
       "2019-01-10 05:00:00+00:00  257.417284  257.142668  364.329009  366.858137   \n",
       "2019-01-11 05:00:00+00:00  257.849915  257.545981  364.329009  366.858137   \n",
       "...                               ...         ...         ...         ...   \n",
       "2023-01-23 05:00:00+00:00  394.501786  391.503344  392.371000  391.366984   \n",
       "2023-01-24 05:00:00+00:00  395.768056  392.331597  392.892400  391.403730   \n",
       "2023-01-25 05:00:00+00:00  396.786266  393.095254  393.005600  391.478810   \n",
       "2023-01-26 05:00:00+00:00  398.555985  394.205230  393.130400  391.508254   \n",
       "2023-01-27 05:00:00+00:00  400.139099  395.298065  393.341600  391.505397   \n",
       "\n",
       "                           Close_future_10  \n",
       "Date                                        \n",
       "2019-01-07 05:00:00+00:00       262.940000  \n",
       "2019-01-08 05:00:00+00:00       263.350000  \n",
       "2019-01-09 05:00:00+00:00       263.600000  \n",
       "2019-01-10 05:00:00+00:00       265.780000  \n",
       "2019-01-11 05:00:00+00:00       263.780000  \n",
       "...                                    ...  \n",
       "2023-01-23 05:00:00+00:00       363.690656  \n",
       "2023-01-24 05:00:00+00:00       363.690656  \n",
       "2023-01-25 05:00:00+00:00       363.690656  \n",
       "2023-01-26 05:00:00+00:00       363.690656  \n",
       "2023-01-27 05:00:00+00:00       363.690656  \n",
       "\n",
       "[1023 rows x 10 columns]"
      ]
     },
     "execution_count": 90,
     "metadata": {},
     "output_type": "execute_result"
    }
   ],
   "source": [
    "#handle missing values\n",
    "stock_data.fillna(stock_data.mean(), inplace=True)\n",
    "stock_data"
   ]
  },
  {
   "cell_type": "code",
   "execution_count": 76,
   "id": "1b5570b5-64f3-4eba-84a9-24426abbe7ce",
   "metadata": {},
   "outputs": [],
   "source": [
    "# Split the data into training and test sets\n",
    "X = stock_data[[\"open\", \"high\", \"low\", \"close\", \"volume\",\"MA_126\",\"MA_50\", \"EMA_8\", \"EMA_20\"]]\n",
    "y = stock_data[\"Close_future_10\"]\n",
    "X_train, X_test, y_train, y_test = train_test_split(X, y, test_size=0.2, random_state = 2)\n"
   ]
  },
  {
   "cell_type": "code",
   "execution_count": 77,
   "id": "66f0332d-20b8-4eb6-b25f-6e5d66ae709b",
   "metadata": {},
   "outputs": [],
   "source": [
    "# Normalize the data\n",
    "scaler = StandardScaler()\n",
    "X_train = scaler.fit_transform(X_train)\n",
    "X_test = scaler.transform(X_test)\n"
   ]
  },
  {
   "cell_type": "code",
   "execution_count": 91,
   "id": "db5cc3a2-a0f0-4dbc-9ecd-235322140d32",
   "metadata": {},
   "outputs": [],
   "source": [
    "# Define the prediction function\n",
    "def predict(X_test, X_train, y_train):\n",
    "    predictions = []\n",
    "    for i in range(len(X_test)):\n",
    "        if X_test[i][6] > X_test[i][7]:\n",
    "            # The 8-day EMA has crossed above the 20-day EMA, so predict the mean of the target values in the training set\n",
    "            predictions.append(y_train.mean())\n",
    "        elif X_test[i][6] < X_test[i][7]:\n",
    "            # The 8-day EMA has crossed below the 20-day EMA, so predict the median of the target values in the training set\n",
    "            predictions.append(y_train.median())\n",
    "        else:\n",
    "            # The 8-day EMA and 20-day EMA are equal, so predict the mean of the target values in the training set\n",
    "            predictions.append(y_train.mean())\n",
    "    return predictions"
   ]
  },
  {
   "cell_type": "code",
   "execution_count": 92,
   "id": "2fb87f6a-d6d3-407d-8cf2-1e09d81fc16d",
   "metadata": {},
   "outputs": [],
   "source": [
    "#Initialize the models\n",
    "linear_regression = LinearRegression()\n",
    "svr = SVR()\n",
    "random_forest = RandomForestRegressor()\n"
   ]
  },
  {
   "cell_type": "code",
   "execution_count": 93,
   "id": "acd61638-1c6c-4953-a1f2-78fbf0668a0c",
   "metadata": {},
   "outputs": [
    {
     "data": {
      "text/html": [
       "<style>#sk-container-id-9 {color: black;background-color: white;}#sk-container-id-9 pre{padding: 0;}#sk-container-id-9 div.sk-toggleable {background-color: white;}#sk-container-id-9 label.sk-toggleable__label {cursor: pointer;display: block;width: 100%;margin-bottom: 0;padding: 0.3em;box-sizing: border-box;text-align: center;}#sk-container-id-9 label.sk-toggleable__label-arrow:before {content: \"▸\";float: left;margin-right: 0.25em;color: #696969;}#sk-container-id-9 label.sk-toggleable__label-arrow:hover:before {color: black;}#sk-container-id-9 div.sk-estimator:hover label.sk-toggleable__label-arrow:before {color: black;}#sk-container-id-9 div.sk-toggleable__content {max-height: 0;max-width: 0;overflow: hidden;text-align: left;background-color: #f0f8ff;}#sk-container-id-9 div.sk-toggleable__content pre {margin: 0.2em;color: black;border-radius: 0.25em;background-color: #f0f8ff;}#sk-container-id-9 input.sk-toggleable__control:checked~div.sk-toggleable__content {max-height: 200px;max-width: 100%;overflow: auto;}#sk-container-id-9 input.sk-toggleable__control:checked~label.sk-toggleable__label-arrow:before {content: \"▾\";}#sk-container-id-9 div.sk-estimator input.sk-toggleable__control:checked~label.sk-toggleable__label {background-color: #d4ebff;}#sk-container-id-9 div.sk-label input.sk-toggleable__control:checked~label.sk-toggleable__label {background-color: #d4ebff;}#sk-container-id-9 input.sk-hidden--visually {border: 0;clip: rect(1px 1px 1px 1px);clip: rect(1px, 1px, 1px, 1px);height: 1px;margin: -1px;overflow: hidden;padding: 0;position: absolute;width: 1px;}#sk-container-id-9 div.sk-estimator {font-family: monospace;background-color: #f0f8ff;border: 1px dotted black;border-radius: 0.25em;box-sizing: border-box;margin-bottom: 0.5em;}#sk-container-id-9 div.sk-estimator:hover {background-color: #d4ebff;}#sk-container-id-9 div.sk-parallel-item::after {content: \"\";width: 100%;border-bottom: 1px solid gray;flex-grow: 1;}#sk-container-id-9 div.sk-label:hover label.sk-toggleable__label {background-color: #d4ebff;}#sk-container-id-9 div.sk-serial::before {content: \"\";position: absolute;border-left: 1px solid gray;box-sizing: border-box;top: 0;bottom: 0;left: 50%;z-index: 0;}#sk-container-id-9 div.sk-serial {display: flex;flex-direction: column;align-items: center;background-color: white;padding-right: 0.2em;padding-left: 0.2em;position: relative;}#sk-container-id-9 div.sk-item {position: relative;z-index: 1;}#sk-container-id-9 div.sk-parallel {display: flex;align-items: stretch;justify-content: center;background-color: white;position: relative;}#sk-container-id-9 div.sk-item::before, #sk-container-id-9 div.sk-parallel-item::before {content: \"\";position: absolute;border-left: 1px solid gray;box-sizing: border-box;top: 0;bottom: 0;left: 50%;z-index: -1;}#sk-container-id-9 div.sk-parallel-item {display: flex;flex-direction: column;z-index: 1;position: relative;background-color: white;}#sk-container-id-9 div.sk-parallel-item:first-child::after {align-self: flex-end;width: 50%;}#sk-container-id-9 div.sk-parallel-item:last-child::after {align-self: flex-start;width: 50%;}#sk-container-id-9 div.sk-parallel-item:only-child::after {width: 0;}#sk-container-id-9 div.sk-dashed-wrapped {border: 1px dashed gray;margin: 0 0.4em 0.5em 0.4em;box-sizing: border-box;padding-bottom: 0.4em;background-color: white;}#sk-container-id-9 div.sk-label label {font-family: monospace;font-weight: bold;display: inline-block;line-height: 1.2em;}#sk-container-id-9 div.sk-label-container {text-align: center;}#sk-container-id-9 div.sk-container {/* jupyter's `normalize.less` sets `[hidden] { display: none; }` but bootstrap.min.css set `[hidden] { display: none !important; }` so we also need the `!important` here to be able to override the default hidden behavior on the sphinx rendered scikit-learn.org. See: https://github.com/scikit-learn/scikit-learn/issues/21755 */display: inline-block !important;position: relative;}#sk-container-id-9 div.sk-text-repr-fallback {display: none;}</style><div id=\"sk-container-id-9\" class=\"sk-top-container\"><div class=\"sk-text-repr-fallback\"><pre>VotingRegressor(estimators=[(&#x27;linear_regression&#x27;, LinearRegression()),\n",
       "                            (&#x27;svr&#x27;, SVR()),\n",
       "                            (&#x27;random_forest&#x27;, RandomForestRegressor())],\n",
       "                weights=[2, 1, 2])</pre><b>In a Jupyter environment, please rerun this cell to show the HTML representation or trust the notebook. <br />On GitHub, the HTML representation is unable to render, please try loading this page with nbviewer.org.</b></div><div class=\"sk-container\" hidden><div class=\"sk-item sk-dashed-wrapped\"><div class=\"sk-label-container\"><div class=\"sk-label sk-toggleable\"><input class=\"sk-toggleable__control sk-hidden--visually\" id=\"sk-estimator-id-33\" type=\"checkbox\" ><label for=\"sk-estimator-id-33\" class=\"sk-toggleable__label sk-toggleable__label-arrow\">VotingRegressor</label><div class=\"sk-toggleable__content\"><pre>VotingRegressor(estimators=[(&#x27;linear_regression&#x27;, LinearRegression()),\n",
       "                            (&#x27;svr&#x27;, SVR()),\n",
       "                            (&#x27;random_forest&#x27;, RandomForestRegressor())],\n",
       "                weights=[2, 1, 2])</pre></div></div></div><div class=\"sk-parallel\"><div class=\"sk-parallel-item\"><div class=\"sk-item\"><div class=\"sk-label-container\"><div class=\"sk-label sk-toggleable\"><label>linear_regression</label></div></div><div class=\"sk-serial\"><div class=\"sk-item\"><div class=\"sk-estimator sk-toggleable\"><input class=\"sk-toggleable__control sk-hidden--visually\" id=\"sk-estimator-id-34\" type=\"checkbox\" ><label for=\"sk-estimator-id-34\" class=\"sk-toggleable__label sk-toggleable__label-arrow\">LinearRegression</label><div class=\"sk-toggleable__content\"><pre>LinearRegression()</pre></div></div></div></div></div></div><div class=\"sk-parallel-item\"><div class=\"sk-item\"><div class=\"sk-label-container\"><div class=\"sk-label sk-toggleable\"><label>svr</label></div></div><div class=\"sk-serial\"><div class=\"sk-item\"><div class=\"sk-estimator sk-toggleable\"><input class=\"sk-toggleable__control sk-hidden--visually\" id=\"sk-estimator-id-35\" type=\"checkbox\" ><label for=\"sk-estimator-id-35\" class=\"sk-toggleable__label sk-toggleable__label-arrow\">SVR</label><div class=\"sk-toggleable__content\"><pre>SVR()</pre></div></div></div></div></div></div><div class=\"sk-parallel-item\"><div class=\"sk-item\"><div class=\"sk-label-container\"><div class=\"sk-label sk-toggleable\"><label>random_forest</label></div></div><div class=\"sk-serial\"><div class=\"sk-item\"><div class=\"sk-estimator sk-toggleable\"><input class=\"sk-toggleable__control sk-hidden--visually\" id=\"sk-estimator-id-36\" type=\"checkbox\" ><label for=\"sk-estimator-id-36\" class=\"sk-toggleable__label sk-toggleable__label-arrow\">RandomForestRegressor</label><div class=\"sk-toggleable__content\"><pre>RandomForestRegressor()</pre></div></div></div></div></div></div></div></div></div></div>"
      ],
      "text/plain": [
       "VotingRegressor(estimators=[('linear_regression', LinearRegression()),\n",
       "                            ('svr', SVR()),\n",
       "                            ('random_forest', RandomForestRegressor())],\n",
       "                weights=[2, 1, 2])"
      ]
     },
     "execution_count": 93,
     "metadata": {},
     "output_type": "execute_result"
    }
   ],
   "source": [
    "#Fit the models to the training data\n",
    "voting_regressor.fit(X_train, y_train)"
   ]
  },
  {
   "cell_type": "code",
   "execution_count": 94,
   "id": "e6c21038-8aed-454b-af3f-07469be1a8e0",
   "metadata": {},
   "outputs": [],
   "source": [
    "#Make predictions on the test set\n",
    "y_pred = voting_regressor.predict(X_test)"
   ]
  },
  {
   "cell_type": "code",
   "execution_count": 95,
   "id": "62b3eff0-8e21-4aeb-b356-b4fe84f89de5",
   "metadata": {},
   "outputs": [
    {
     "name": "stdout",
     "output_type": "stream",
     "text": [
      "Mean Squared Error:  126.61929802147492\n",
      "R-squared Score:  0.9641172034656729\n"
     ]
    }
   ],
   "source": [
    "#Evaluate the models\n",
    "mse = mean_squared_error(y_test, y_pred)\n",
    "r2 = r2_score(y_test, y_pred)\n",
    "print(\"Mean Squared Error: \", mse)\n",
    "print(\"R-squared Score: \", r2)"
   ]
  },
  {
   "cell_type": "code",
   "execution_count": 96,
   "id": "86274352-fc31-4da3-b3b2-3873e862d620",
   "metadata": {},
   "outputs": [
    {
     "name": "stdout",
     "output_type": "stream",
     "text": [
      "Best Parameters:  {'weights': [2, 1, 2]}\n"
     ]
    }
   ],
   "source": [
    "voting_regressor = VotingRegressor([('linear_regression', linear_regression), ('svr', svr), ('random_forest', random_forest)])\n",
    "#Fit the models to the training data\n",
    "voting_regressor.fit(X_train, y_train)\n",
    "#Hyperparameters of the models in the voting regresso\n",
    "param_grid = {'weights': [[1, 1, 1], [2, 1, 2], [2, 2, 1]]}\n",
    "grid_search = GridSearchCV(voting_regressor, param_grid, cv=5)\n",
    "grid_search.fit(X_train, y_train.ravel())\n",
    "print(\"Best Parameters: \", grid_search.best_params_)"
   ]
  },
  {
   "cell_type": "code",
   "execution_count": 97,
   "id": "0ec378d2-17eb-44c5-b111-9d2585b23642",
   "metadata": {},
   "outputs": [
    {
     "data": {
      "text/html": [
       "<style>#sk-container-id-10 {color: black;background-color: white;}#sk-container-id-10 pre{padding: 0;}#sk-container-id-10 div.sk-toggleable {background-color: white;}#sk-container-id-10 label.sk-toggleable__label {cursor: pointer;display: block;width: 100%;margin-bottom: 0;padding: 0.3em;box-sizing: border-box;text-align: center;}#sk-container-id-10 label.sk-toggleable__label-arrow:before {content: \"▸\";float: left;margin-right: 0.25em;color: #696969;}#sk-container-id-10 label.sk-toggleable__label-arrow:hover:before {color: black;}#sk-container-id-10 div.sk-estimator:hover label.sk-toggleable__label-arrow:before {color: black;}#sk-container-id-10 div.sk-toggleable__content {max-height: 0;max-width: 0;overflow: hidden;text-align: left;background-color: #f0f8ff;}#sk-container-id-10 div.sk-toggleable__content pre {margin: 0.2em;color: black;border-radius: 0.25em;background-color: #f0f8ff;}#sk-container-id-10 input.sk-toggleable__control:checked~div.sk-toggleable__content {max-height: 200px;max-width: 100%;overflow: auto;}#sk-container-id-10 input.sk-toggleable__control:checked~label.sk-toggleable__label-arrow:before {content: \"▾\";}#sk-container-id-10 div.sk-estimator input.sk-toggleable__control:checked~label.sk-toggleable__label {background-color: #d4ebff;}#sk-container-id-10 div.sk-label input.sk-toggleable__control:checked~label.sk-toggleable__label {background-color: #d4ebff;}#sk-container-id-10 input.sk-hidden--visually {border: 0;clip: rect(1px 1px 1px 1px);clip: rect(1px, 1px, 1px, 1px);height: 1px;margin: -1px;overflow: hidden;padding: 0;position: absolute;width: 1px;}#sk-container-id-10 div.sk-estimator {font-family: monospace;background-color: #f0f8ff;border: 1px dotted black;border-radius: 0.25em;box-sizing: border-box;margin-bottom: 0.5em;}#sk-container-id-10 div.sk-estimator:hover {background-color: #d4ebff;}#sk-container-id-10 div.sk-parallel-item::after {content: \"\";width: 100%;border-bottom: 1px solid gray;flex-grow: 1;}#sk-container-id-10 div.sk-label:hover label.sk-toggleable__label {background-color: #d4ebff;}#sk-container-id-10 div.sk-serial::before {content: \"\";position: absolute;border-left: 1px solid gray;box-sizing: border-box;top: 0;bottom: 0;left: 50%;z-index: 0;}#sk-container-id-10 div.sk-serial {display: flex;flex-direction: column;align-items: center;background-color: white;padding-right: 0.2em;padding-left: 0.2em;position: relative;}#sk-container-id-10 div.sk-item {position: relative;z-index: 1;}#sk-container-id-10 div.sk-parallel {display: flex;align-items: stretch;justify-content: center;background-color: white;position: relative;}#sk-container-id-10 div.sk-item::before, #sk-container-id-10 div.sk-parallel-item::before {content: \"\";position: absolute;border-left: 1px solid gray;box-sizing: border-box;top: 0;bottom: 0;left: 50%;z-index: -1;}#sk-container-id-10 div.sk-parallel-item {display: flex;flex-direction: column;z-index: 1;position: relative;background-color: white;}#sk-container-id-10 div.sk-parallel-item:first-child::after {align-self: flex-end;width: 50%;}#sk-container-id-10 div.sk-parallel-item:last-child::after {align-self: flex-start;width: 50%;}#sk-container-id-10 div.sk-parallel-item:only-child::after {width: 0;}#sk-container-id-10 div.sk-dashed-wrapped {border: 1px dashed gray;margin: 0 0.4em 0.5em 0.4em;box-sizing: border-box;padding-bottom: 0.4em;background-color: white;}#sk-container-id-10 div.sk-label label {font-family: monospace;font-weight: bold;display: inline-block;line-height: 1.2em;}#sk-container-id-10 div.sk-label-container {text-align: center;}#sk-container-id-10 div.sk-container {/* jupyter's `normalize.less` sets `[hidden] { display: none; }` but bootstrap.min.css set `[hidden] { display: none !important; }` so we also need the `!important` here to be able to override the default hidden behavior on the sphinx rendered scikit-learn.org. See: https://github.com/scikit-learn/scikit-learn/issues/21755 */display: inline-block !important;position: relative;}#sk-container-id-10 div.sk-text-repr-fallback {display: none;}</style><div id=\"sk-container-id-10\" class=\"sk-top-container\"><div class=\"sk-text-repr-fallback\"><pre>VotingRegressor(estimators=[(&#x27;linear_regression&#x27;, LinearRegression()),\n",
       "                            (&#x27;svr&#x27;, SVR()),\n",
       "                            (&#x27;random_forest&#x27;, RandomForestRegressor())],\n",
       "                weights=[2, 1, 2])</pre><b>In a Jupyter environment, please rerun this cell to show the HTML representation or trust the notebook. <br />On GitHub, the HTML representation is unable to render, please try loading this page with nbviewer.org.</b></div><div class=\"sk-container\" hidden><div class=\"sk-item sk-dashed-wrapped\"><div class=\"sk-label-container\"><div class=\"sk-label sk-toggleable\"><input class=\"sk-toggleable__control sk-hidden--visually\" id=\"sk-estimator-id-37\" type=\"checkbox\" ><label for=\"sk-estimator-id-37\" class=\"sk-toggleable__label sk-toggleable__label-arrow\">VotingRegressor</label><div class=\"sk-toggleable__content\"><pre>VotingRegressor(estimators=[(&#x27;linear_regression&#x27;, LinearRegression()),\n",
       "                            (&#x27;svr&#x27;, SVR()),\n",
       "                            (&#x27;random_forest&#x27;, RandomForestRegressor())],\n",
       "                weights=[2, 1, 2])</pre></div></div></div><div class=\"sk-parallel\"><div class=\"sk-parallel-item\"><div class=\"sk-item\"><div class=\"sk-label-container\"><div class=\"sk-label sk-toggleable\"><label>linear_regression</label></div></div><div class=\"sk-serial\"><div class=\"sk-item\"><div class=\"sk-estimator sk-toggleable\"><input class=\"sk-toggleable__control sk-hidden--visually\" id=\"sk-estimator-id-38\" type=\"checkbox\" ><label for=\"sk-estimator-id-38\" class=\"sk-toggleable__label sk-toggleable__label-arrow\">LinearRegression</label><div class=\"sk-toggleable__content\"><pre>LinearRegression()</pre></div></div></div></div></div></div><div class=\"sk-parallel-item\"><div class=\"sk-item\"><div class=\"sk-label-container\"><div class=\"sk-label sk-toggleable\"><label>svr</label></div></div><div class=\"sk-serial\"><div class=\"sk-item\"><div class=\"sk-estimator sk-toggleable\"><input class=\"sk-toggleable__control sk-hidden--visually\" id=\"sk-estimator-id-39\" type=\"checkbox\" ><label for=\"sk-estimator-id-39\" class=\"sk-toggleable__label sk-toggleable__label-arrow\">SVR</label><div class=\"sk-toggleable__content\"><pre>SVR()</pre></div></div></div></div></div></div><div class=\"sk-parallel-item\"><div class=\"sk-item\"><div class=\"sk-label-container\"><div class=\"sk-label sk-toggleable\"><label>random_forest</label></div></div><div class=\"sk-serial\"><div class=\"sk-item\"><div class=\"sk-estimator sk-toggleable\"><input class=\"sk-toggleable__control sk-hidden--visually\" id=\"sk-estimator-id-40\" type=\"checkbox\" ><label for=\"sk-estimator-id-40\" class=\"sk-toggleable__label sk-toggleable__label-arrow\">RandomForestRegressor</label><div class=\"sk-toggleable__content\"><pre>RandomForestRegressor()</pre></div></div></div></div></div></div></div></div></div></div>"
      ],
      "text/plain": [
       "VotingRegressor(estimators=[('linear_regression', LinearRegression()),\n",
       "                            ('svr', SVR()),\n",
       "                            ('random_forest', RandomForestRegressor())],\n",
       "                weights=[2, 1, 2])"
      ]
     },
     "execution_count": 97,
     "metadata": {},
     "output_type": "execute_result"
    }
   ],
   "source": [
    "#Use the best parameters to fit the models\n",
    "voting_regressor.set_params(**grid_search.best_params_)\n",
    "voting_regressor.fit(X_train, y_train.ravel())"
   ]
  },
  {
   "cell_type": "code",
   "execution_count": 98,
   "id": "9ab8f3b5-6660-4e51-a022-bed2338dcd81",
   "metadata": {},
   "outputs": [
    {
     "data": {
      "text/plain": [
       "array([343.87403824, 395.84881436, 403.49746608, 414.6758896 ,\n",
       "       287.15299507, 399.25437976, 436.08021354, 318.9204099 ,\n",
       "       388.33817011, 438.3838531 , 352.72882566, 291.99408147,\n",
       "       356.50943189, 393.74835619, 328.74253937, 345.96938828,\n",
       "       384.89744403, 367.63122451, 296.45518327, 297.63600812,\n",
       "       414.52648295, 388.70221454, 380.99231557, 327.81071441,\n",
       "       405.13740935, 342.9299562 , 391.55320102, 398.79022921,\n",
       "       300.58681281, 456.29059566, 451.12385341, 454.71075211,\n",
       "       439.11854409, 291.88096089, 344.83837494, 292.89372924,\n",
       "       450.999597  , 425.75422438, 456.53726606, 279.33619011,\n",
       "       291.83781686, 278.25189659, 458.3332592 , 284.31117901,\n",
       "       438.97925498, 302.05251647, 312.84692996, 311.42927432,\n",
       "       287.36647056, 445.13194005, 381.68885613, 306.49309696,\n",
       "       300.16297298, 399.98682703, 438.75021177, 374.99958135,\n",
       "       444.43340367, 319.93201112, 422.73818781, 348.21450156,\n",
       "       300.27195834, 340.30647434, 306.08636242, 407.84921769,\n",
       "       280.14168654, 393.66634332, 374.95097866, 308.68818057,\n",
       "       347.13549291, 420.59499419, 424.74651777, 312.44906539,\n",
       "       285.84310943, 401.1029499 , 274.76042162, 412.77694439,\n",
       "       388.57128248, 340.89609013, 389.16139021, 405.31581386,\n",
       "       272.92863127, 442.77711288, 344.03666384, 337.65298491,\n",
       "       319.79213161, 325.60464337, 274.39712542, 374.67236303,\n",
       "       404.90127938, 385.49045577, 310.93379882, 317.93695923,\n",
       "       440.7560147 , 410.76506003, 396.01804962, 322.09763929,\n",
       "       342.26958778, 439.23733716, 445.77526752, 384.81050592,\n",
       "       385.01573215, 343.79260106, 415.2972195 , 302.61518421,\n",
       "       365.70093969, 381.8226607 , 386.23035577, 342.94481667,\n",
       "       322.77346947, 284.16513283, 385.87678313, 300.27675097,\n",
       "       319.23413098, 370.54610673, 297.57498731, 310.1295046 ,\n",
       "       401.90270638, 387.45255458, 431.14122686, 282.85243401,\n",
       "       307.01763696, 291.72356349, 435.95035082, 387.39045099,\n",
       "       345.37656764, 433.89194192, 407.88291222, 443.48635033,\n",
       "       281.1215671 , 445.04775393, 296.80927531, 377.35453388,\n",
       "       298.6653381 , 448.42610034, 314.47559461, 274.02288301,\n",
       "       454.82467609, 401.35074476, 397.37011432, 312.93506629,\n",
       "       438.59053354, 387.47435032, 342.60041629, 292.51552742,\n",
       "       334.03000747, 435.07890204, 428.17600203, 392.28204664,\n",
       "       303.59675763, 342.4622897 , 434.93237523, 379.42356158,\n",
       "       284.33005326, 299.21104059, 341.49746647, 393.58787825,\n",
       "       334.77301427, 336.80152371, 461.8554812 , 292.32043906,\n",
       "       448.0459043 , 455.72354068, 436.74488279, 382.83306347,\n",
       "       360.91367345, 430.15314125, 374.01157547, 354.4561956 ,\n",
       "       401.56008458, 389.51141957, 299.71370639, 459.32915363,\n",
       "       388.65940647, 301.69094375, 292.22305877, 392.91892471,\n",
       "       451.88888795, 458.04594087, 287.44716801, 386.06918014,\n",
       "       455.24387065, 384.53994822, 316.39709369, 297.49118647,\n",
       "       347.11142956, 326.94857123, 399.51904099, 400.46802603,\n",
       "       453.92997327, 391.08754969, 299.0764786 , 433.00534522,\n",
       "       390.23542349, 370.53122492, 268.49941782, 412.22685391,\n",
       "       432.98174377, 293.39346588, 295.83661563, 400.91533383,\n",
       "       423.75632642, 385.85416386, 342.84248673, 391.5716778 ,\n",
       "       301.5970422 ])"
      ]
     },
     "execution_count": 98,
     "metadata": {},
     "output_type": "execute_result"
    }
   ],
   "source": [
    "#Make predictions\n",
    "y_pred = voting_regressor.predict(X_test)\n",
    "y_pred "
   ]
  },
  {
   "cell_type": "code",
   "execution_count": 102,
   "id": "9ed3e849-7622-4feb-bf83-0a973380e27f",
   "metadata": {},
   "outputs": [
    {
     "ename": "AttributeError",
     "evalue": "'numpy.ndarray' object has no attribute 'head'",
     "output_type": "error",
     "traceback": [
      "\u001b[1;31m---------------------------------------------------------------------------\u001b[0m",
      "\u001b[1;31mAttributeError\u001b[0m                            Traceback (most recent call last)",
      "Input \u001b[1;32mIn [102]\u001b[0m, in \u001b[0;36m<cell line: 1>\u001b[1;34m()\u001b[0m\n\u001b[1;32m----> 1\u001b[0m \u001b[43my_pred\u001b[49m\u001b[38;5;241;43m.\u001b[39;49m\u001b[43mhead\u001b[49m()\n",
      "\u001b[1;31mAttributeError\u001b[0m: 'numpy.ndarray' object has no attribute 'head'"
     ]
    }
   ],
   "source": [
    "y_pred.head()"
   ]
  },
  {
   "cell_type": "code",
   "execution_count": 99,
   "id": "9295c501-fce2-4eb3-8e5c-50d252f97e64",
   "metadata": {},
   "outputs": [
    {
     "name": "stdout",
     "output_type": "stream",
     "text": [
      "Mean Squared Error:  127.7385898444027\n"
     ]
    }
   ],
   "source": [
    "#Calculate the mean squared error\n",
    "mse = mean_squared_error(y_test, y_pred)\n",
    "print(\"Mean Squared Error: \", mse)"
   ]
  },
  {
   "cell_type": "code",
   "execution_count": 100,
   "id": "a5a027c4-2452-42e4-a05e-9002decb2d94",
   "metadata": {},
   "outputs": [
    {
     "name": "stdout",
     "output_type": "stream",
     "text": [
      "R^2 Score:  0.9638000059975758\n"
     ]
    }
   ],
   "source": [
    "#Calculate the R^2 score\n",
    "r2 = r2_score(y_test, y_pred)\n",
    "print(\"R^2 Score: \", r2)"
   ]
  },
  {
   "cell_type": "code",
   "execution_count": 101,
   "id": "ebd7cbaa-7154-4145-98ad-9e2d2b751571",
   "metadata": {},
   "outputs": [
    {
     "data": {
      "image/png": "[encoded data removed]",
      "text/plain": [
       "<Figure size 640x480 with 1 Axes>"
      ]
     },
     "metadata": {},
     "output_type": "display_data"
    }
   ],
   "source": [
    "\n",
    "# Make predictions on the test set\n",
    "y_pred = voting_regressor.predict(X_test)\n",
    "\n",
    "# Plot the true values against the predicted values\n",
    "plt.scatter(y_test, y_pred)\n",
    "plt.xlabel(\"True Values\")\n",
    "plt.ylabel(\"Predictions\")\n",
    "plt.show()"
   ]
  },
  {
   "cell_type": "code",
   "execution_count": 89,
   "id": "fc75d55b-9c81-4c42-a121-06db9c42be52",
   "metadata": {},
   "outputs": [
    {
     "data": {
      "image/png": "[encoded data removed]",
      "text/plain": [
       "<Figure size 640x480 with 1 Axes>"
      ]
     },
     "metadata": {},
     "output_type": "display_data"
    }
   ],
   "source": [
    "plt.plot(y_test, label='Actual Values')\n",
    "plt.plot(y_pred, label='Predictions')\n",
    "plt.legend()\n",
    "plt.show()"
   ]
  },
  {
   "cell_type": "code",
   "execution_count": null,
   "id": "4e1b82c2-937d-4366-91c9-ce1470d56a8c",
   "metadata": {},
   "outputs": [],
   "source": []
  },
  {
   "cell_type": "code",
   "execution_count": null,
   "id": "e9607c40-2120-48db-b3d1-63f817bdad76",
   "metadata": {},
   "outputs": [],
   "source": []
  }
 ],
 "metadata": {
  "kernelspec": {
   "display_name": "Python 3 (ipykernel)",
   "language": "python",
   "name": "python3"
  },
  "language_info": {
   "codemirror_mode": {
    "name": "ipython",
    "version": 3
   },
   "file_extension": ".py",
   "mimetype": "text/x-python",
   "name": "python",
   "nbconvert_exporter": "python",
   "pygments_lexer": "ipython3",
   "version": "3.9.12"
  }
 },
 "nbformat": 4,
 "nbformat_minor": 5
}
